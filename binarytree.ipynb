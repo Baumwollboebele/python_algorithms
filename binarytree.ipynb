{
  "metadata": {
    "language_info": {
      "codemirror_mode": {
        "name": "python",
        "version": 3
      },
      "file_extension": ".py",
      "mimetype": "text/x-python",
      "name": "python",
      "nbconvert_exporter": "python",
      "pygments_lexer": "ipython3",
      "version": "3.8"
    },
    "kernelspec": {
      "name": "python",
      "display_name": "Python (Pyodide)",
      "language": "python"
    }
  },
  "nbformat_minor": 4,
  "nbformat": 4,
  "cells": [
    {
      "cell_type": "markdown",
      "source": "# Binary Search Tree",
      "metadata": {}
    },
    {
      "cell_type": "code",
      "source": "numbers = [5,8,13,2,1,9,14]",
      "metadata": {
        "trusted": true
      },
      "execution_count": 1,
      "outputs": []
    },
    {
      "cell_type": "code",
      "source": "class Node():\n    def __init__(self,value):\n        self.val = value\n        self.right = None\n        self.left = None\n    \nclass Tree():\n    def __init__(self):\n        self.root = None\n    \n    def insert(self,node):\n        \n        if self.root == None:\n            self.root = node\n            return   \n        \n        current_node = self.root\n        \n        while current_node != None:\n            \n            if node.val < current_node.val:\n                if current_node.left == None:\n                    current_node.left = node\n                    current_node = None\n                else:\n                    current_node = current_node.left \n            else:\n                if current_node.right == None:\n                    current_node.right = node\n                    current_node = None\n                else:\n                    current_node = current_node.right\n                    \n                \n    def maximum(self):\n        current_node = self.root\n        while current_node.right != None:\n            current_node = current_node.right\n        return current_node.val\n    \n    def minimum(self):\n        current_node = self.root\n        while current_node.left != None:\n            current_node = current_node.left\n        return current_node.val\n        \n        \n                \n            \n            \n            \n        ",
      "metadata": {
        "trusted": true
      },
      "execution_count": 3,
      "outputs": []
    },
    {
      "cell_type": "code",
      "source": "for n in numbers:\n    tree.insert(Node(n))",
      "metadata": {
        "trusted": true
      },
      "execution_count": 5,
      "outputs": []
    },
    {
      "cell_type": "code",
      "source": "tree.maximum()",
      "metadata": {
        "trusted": true
      },
      "execution_count": 6,
      "outputs": [
        {
          "execution_count": 5,
          "output_type": "execute_result",
          "data": {
            "text/plain": "14"
          },
          "metadata": {}
        }
      ]
    },
    {
      "cell_type": "code",
      "source": "tree.minimum()",
      "metadata": {
        "trusted": true
      },
      "execution_count": 7,
      "outputs": [
        {
          "execution_count": 6,
          "output_type": "execute_result",
          "data": {
            "text/plain": "1"
          },
          "metadata": {}
        }
      ]
    },
    {
      "cell_type": "code",
      "source": "",
      "metadata": {},
      "execution_count": null,
      "outputs": []
    }
  ]
}